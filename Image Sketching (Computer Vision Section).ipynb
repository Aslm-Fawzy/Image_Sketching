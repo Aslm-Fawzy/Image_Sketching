{
 "cells": [
  {
   "cell_type": "markdown",
   "id": "d4896cbd",
   "metadata": {},
   "source": [
    "# Image Sketching\n",
    " ###  Idea :\n",
    " The idea is to build an app that will take an normal image/photo as input from the user and convert it into a pencil sketching .\n",
    " ###  Steps :\n",
    " * Reading Image \n",
    " * Resizing Image \n",
    " * Converting Image to Gray-Scale Image\n",
    " * Apply Bitwise-Not for Image\n",
    " * Smoothing and Removing Noise for Image using Gaussian Filter\n",
    " * Divide Gray-Scale by Inverse of Smoothed Image to Get Sketch Image\n",
    " \n",
    "#### Used Links : \n",
    "https://www.analyticsvidhya.com/blog/2021/07/build-sketches-from-photographs-using-opencv/"
   ]
  },
  {
   "cell_type": "code",
   "execution_count": 1,
   "id": "719128eb",
   "metadata": {},
   "outputs": [],
   "source": [
    "#Let's import required libraries\n",
    "import cv2"
   ]
  },
  {
   "cell_type": "code",
   "execution_count": 2,
   "id": "42560851",
   "metadata": {},
   "outputs": [],
   "source": [
    "#Read the image\n",
    "Path = r\"aslm.jpg\"\n",
    "img = cv2.imread(Path)\n",
    "\n",
    "#Resize image\n",
    "img = cv2.resize(img,(700,700))"
   ]
  },
  {
   "cell_type": "code",
   "execution_count": 3,
   "id": "e9ee31a0",
   "metadata": {},
   "outputs": [],
   "source": [
    "#Convert to grayscale\n",
    "img_gray = cv2.cvtColor(img,cv2.COLOR_BGR2GRAY)\n",
    "\n",
    "#Invert the image\n",
    "img_invert = cv2.bitwise_not(img_gray) #gray scale to inversion of the image\n",
    "\n",
    "#Apply blur\n",
    "img_smoothing = cv2.GaussianBlur(img_invert,(21,21),sigmaX=0,sigmaY=0) #smooting the inverted image"
   ]
  },
  {
   "cell_type": "code",
   "execution_count": 4,
   "id": "ede734cb",
   "metadata": {},
   "outputs": [],
   "source": [
    "def dodgeV2(x,y):\n",
    "    return cv2.divide(x,255-y,scale=256)\n",
    "\n",
    "final_img = dodgeV2(img_gray,img_smoothing)"
   ]
  },
  {
   "cell_type": "code",
   "execution_count": 5,
   "id": "31820412",
   "metadata": {},
   "outputs": [],
   "source": [
    "cv2.imshow(\"Orginal Image\",img) # displaying the original image\n",
    "cv2.imshow(\"Gray Image\",img_gray)\n",
    "cv2.imshow(\"Inverted Image\",img_invert)\n",
    "cv2.imshow(\"Smooth Image\",img_smoothing)\n",
    "cv2.imshow(\"Sketching Image\",final_img)\n",
    "cv2.waitKey(0) #waits until the pressing any key.\n",
    "cv2.destroyAllWindows() # this function destroy all windows of images after clicking any button."
   ]
  }
 ],
 "metadata": {
  "kernelspec": {
   "display_name": "Python 3 (ipykernel)",
   "language": "python",
   "name": "python3"
  },
  "language_info": {
   "codemirror_mode": {
    "name": "ipython",
    "version": 3
   },
   "file_extension": ".py",
   "mimetype": "text/x-python",
   "name": "python",
   "nbconvert_exporter": "python",
   "pygments_lexer": "ipython3",
   "version": "3.9.13"
  }
 },
 "nbformat": 4,
 "nbformat_minor": 5
}
